{
 "cells": [
  {
   "cell_type": "markdown",
   "metadata": {},
   "source": [
    "# Insertion-Sort"
   ]
  },
  {
   "cell_type": "code",
   "execution_count": 6,
   "metadata": {
    "collapsed": false
   },
   "outputs": [
    {
     "name": "stdout",
     "output_type": "stream",
     "text": [
      "[33, 44, 24, 0, 99, 18, -3] 7 24\n"
     ]
    }
   ],
   "source": [
    "A = [33, 44, 24, 0, 99, 18, -3]\n",
    "print A, len(A), A[2]"
   ]
  },
  {
   "cell_type": "code",
   "execution_count": 7,
   "metadata": {
    "collapsed": false
   },
   "outputs": [
    {
     "name": "stdout",
     "output_type": "stream",
     "text": [
      "Iteration 1\n",
      "key =  44\n",
      "(i >= 0) is True and A[0] > key is False\n",
      "1 [33, 44, 24, 0, 99, 18, -3]\n",
      "Iteration 2\n",
      "key =  24\n",
      "(i >= 0) is True and A[1] > key is True\n",
      "0 [24, 33, 44, 0, 99, 18, -3]\n",
      "Iteration 3\n",
      "key =  0\n",
      "(i >= 0) is True and A[2] > key is True\n",
      "0 [0, 24, 33, 44, 99, 18, -3]\n",
      "Iteration 4\n",
      "key =  99\n",
      "(i >= 0) is True and A[3] > key is False\n",
      "4 [0, 24, 33, 44, 99, 18, -3]\n",
      "Iteration 5\n",
      "key =  18\n",
      "(i >= 0) is True and A[4] > key is True\n",
      "1 [0, 18, 24, 33, 44, 99, -3]\n",
      "Iteration 6\n",
      "key =  -3\n",
      "(i >= 0) is True and A[5] > key is True\n",
      "0 [-3, 0, 18, 24, 33, 44, 99]\n"
     ]
    }
   ],
   "source": [
    "for j in range(1, len(A)):\n",
    "    print 'Iteration %s' % j\n",
    "    key = A[j]\n",
    "    print 'key = ', key\n",
    "    i = j - 1\n",
    "    print '(i >= 0) is', (i >= 0), 'and A[%s] > key' % str(i), 'is', (A[i] > key)\n",
    "    while i >= 0 and A[i] > key:\n",
    "        A[i+1] = A[i]\n",
    "        i = i - 1\n",
    "    A[i+1] = key\n",
    "    print i+1, A"
   ]
  },
  {
   "cell_type": "markdown",
   "metadata": {
    "collapsed": true
   },
   "source": [
    "## 1.1-2"
   ]
  },
  {
   "cell_type": "code",
   "execution_count": 8,
   "metadata": {
    "collapsed": false
   },
   "outputs": [
    {
     "name": "stdout",
     "output_type": "stream",
     "text": [
      "Iteration 1\n",
      "key =  0\n",
      "(i >= 0) is True and A[0] > key is False\n",
      "0 [0, -3, 18, 24, 33, 44, 99]\n",
      "Iteration 2\n",
      "key =  18\n",
      "(i >= 0) is True and A[1] > key is False\n",
      "0 [18, 0, -3, 24, 33, 44, 99]\n",
      "Iteration 3\n",
      "key =  24\n",
      "(i >= 0) is True and A[2] > key is False\n",
      "0 [24, 18, 0, -3, 33, 44, 99]\n",
      "Iteration 4\n",
      "key =  33\n",
      "(i >= 0) is True and A[3] > key is False\n",
      "0 [33, 24, 18, 0, -3, 44, 99]\n",
      "Iteration 5\n",
      "key =  44\n",
      "(i >= 0) is True and A[4] > key is False\n",
      "0 [44, 33, 24, 18, 0, -3, 99]\n",
      "Iteration 6\n",
      "key =  99\n",
      "(i >= 0) is True and A[5] > key is False\n",
      "0 [99, 44, 33, 24, 18, 0, -3]\n"
     ]
    }
   ],
   "source": [
    "for j in range(1, len(A)):\n",
    "    print 'Iteration %s' % j\n",
    "    key = A[j]\n",
    "    print 'key = ', key\n",
    "    i = j - 1\n",
    "    print '(i >= 0) is', (i >= 0), 'and A[%s] < key' % str(i), 'is', (A[i] > key)\n",
    "    while i >= 0 and A[i] < key:\n",
    "        A[i+1] = A[i]\n",
    "        i = i - 1\n",
    "    A[i+1] = key\n",
    "    print i+1, A"
   ]
  },
  {
   "cell_type": "code",
   "execution_count": 36,
   "metadata": {
    "collapsed": true
   },
   "outputs": [],
   "source": [
    "def sortingAsc(alist):\n",
    "    for j in range(1, len(alist)):\n",
    "        key = alist[j]\n",
    "        i = j - 1\n",
    "        while i >= 0 and alist[i] > key:\n",
    "            alist[i+1] = alist[i]\n",
    "            i = i - 1\n",
    "        alist[i+1] = key\n",
    "    \n",
    "    return alist"
   ]
  },
  {
   "cell_type": "code",
   "execution_count": 37,
   "metadata": {
    "collapsed": false
   },
   "outputs": [
    {
     "name": "stdout",
     "output_type": "stream",
     "text": [
      "[0, 1, 2, 8, 13, 17, 19, 32, 42]\n"
     ]
    }
   ],
   "source": [
    "testlist = [1, 2, 32, 8, 17, 19, 42, 13, 0]\n",
    "print(sortingAsc(testlist))"
   ]
  },
  {
   "cell_type": "code",
   "execution_count": 38,
   "metadata": {
    "collapsed": true
   },
   "outputs": [],
   "source": [
    "def sortingDesc(alist):\n",
    "    for j in range(1, len(alist)):\n",
    "        key = alist[j]\n",
    "        i = j - 1\n",
    "        while i >= 0 and alist[i] < key:\n",
    "            alist[i+1] = alist[i]\n",
    "            i = i - 1\n",
    "        alist[i+1] = key\n",
    "    \n",
    "    return alist"
   ]
  },
  {
   "cell_type": "code",
   "execution_count": 39,
   "metadata": {
    "collapsed": false
   },
   "outputs": [
    {
     "name": "stdout",
     "output_type": "stream",
     "text": [
      "[42, 32, 19, 17, 13, 8, 2, 1, 0]\n"
     ]
    }
   ],
   "source": [
    "testlist = [1, 2, 32, 8, 17, 19, 42, 13, 0]\n",
    "print(sortingDesc(testlist))"
   ]
  },
  {
   "cell_type": "code",
   "execution_count": 40,
   "metadata": {
    "collapsed": true
   },
   "outputs": [],
   "source": [
    "def sortingSimple(alist, order):\n",
    "    for j in range(1, len(alist)):\n",
    "        key = alist[j]\n",
    "        i = j - 1\n",
    "        while i >= 0 and (alist[i] < key) * (order == 'desc') + (alist[i] > key) * (order == 'asc'):\n",
    "            alist[i+1] = alist[i]\n",
    "            i = i - 1\n",
    "        alist[i+1] = key\n",
    "    \n",
    "    return alist    "
   ]
  },
  {
   "cell_type": "code",
   "execution_count": 41,
   "metadata": {
    "collapsed": false
   },
   "outputs": [
    {
     "name": "stdout",
     "output_type": "stream",
     "text": [
      "[0, 1, 2, 8, 13, 17, 19, 32, 42]\n",
      "[0, 1, 2, 8, 13, 17, 19, 32, 42]\n",
      "[42, 32, 19, 17, 13, 8, 2, 1, 0]\n",
      "[42, 32, 19, 17, 13, 8, 2, 1, 0]\n"
     ]
    }
   ],
   "source": [
    "testlist = [1, 2, 32, 8, 17, 19, 42, 13, 0]\n",
    "print(sortingAsc(testlist))\n",
    "print(sortingSimple(testlist,'asc'))\n",
    "print(sortingDesc(testlist))\n",
    "print(sortingSimple(testlist,'desc'))"
   ]
  },
  {
   "cell_type": "markdown",
   "metadata": {},
   "source": [
    "## 1.1-3 Linear Search / The Sequential Search¶"
   ]
  },
  {
   "cell_type": "code",
   "execution_count": 19,
   "metadata": {
    "collapsed": false
   },
   "outputs": [
    {
     "name": "stdout",
     "output_type": "stream",
     "text": [
      "6\n"
     ]
    }
   ],
   "source": [
    "A = [33, 44, 24, 0, 99, 18, -3]\n",
    "searchible = -3\n",
    "for i in range(len(A)):\n",
    "    index = 'NULL'\n",
    "    if A[i] == searchible:\n",
    "        index = i\n",
    "        break\n",
    "print index"
   ]
  },
  {
   "cell_type": "code",
   "execution_count": 29,
   "metadata": {
    "collapsed": false
   },
   "outputs": [
    {
     "name": "stdout",
     "output_type": "stream",
     "text": [
      "True 1\n"
     ]
    }
   ],
   "source": [
    "A = [33, 44, 24, 0, 99, 18, -3]\n",
    "searchible = 44\n",
    "\n",
    "found = False\n",
    "position = 0 \n",
    "\n",
    "while position < len(A) and not found:\n",
    "    if A[position] == searchible:\n",
    "        found = True\n",
    "    else:\n",
    "        position += 1\n",
    "\n",
    "print found, found*position"
   ]
  },
  {
   "cell_type": "code",
   "execution_count": 30,
   "metadata": {
    "collapsed": true
   },
   "outputs": [],
   "source": [
    "def sequentialSearch(alist, item):\n",
    "    found = False\n",
    "    position = 0 \n",
    "    \n",
    "    while position < len(alist) and not found:\n",
    "        if alist[position] == item:\n",
    "            found = True\n",
    "        else:\n",
    "            position += 1\n",
    "    \n",
    "    return found"
   ]
  },
  {
   "cell_type": "code",
   "execution_count": 31,
   "metadata": {
    "collapsed": false
   },
   "outputs": [
    {
     "name": "stdout",
     "output_type": "stream",
     "text": [
      "False\n",
      "True\n"
     ]
    }
   ],
   "source": [
    "testlist = [1, 2, 32, 8, 17, 19, 42, 13, 0]\n",
    "print(sequentialSearch(testlist, 3))\n",
    "print(sequentialSearch(testlist, 13))"
   ]
  },
  {
   "cell_type": "code",
   "execution_count": null,
   "metadata": {
    "collapsed": true
   },
   "outputs": [],
   "source": []
  }
 ],
 "metadata": {
  "kernelspec": {
   "display_name": "Python [Root]",
   "language": "python",
   "name": "Python [Root]"
  },
  "language_info": {
   "codemirror_mode": {
    "name": "ipython",
    "version": 2
   },
   "file_extension": ".py",
   "mimetype": "text/x-python",
   "name": "python",
   "nbconvert_exporter": "python",
   "pygments_lexer": "ipython2",
   "version": "2.7.12"
  }
 },
 "nbformat": 4,
 "nbformat_minor": 0
}
